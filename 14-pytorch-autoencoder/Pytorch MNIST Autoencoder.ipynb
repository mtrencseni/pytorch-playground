{
 "cells": [
  {
   "cell_type": "code",
   "execution_count": null,
   "metadata": {},
   "outputs": [],
   "source": [
    "import torch\n",
    "import torchvision as tv\n",
    "import torchvision.transforms as transforms\n",
    "import torch.nn as nn\n",
    "import torch.nn.functional as F\n",
    "from torch.autograd import Variable\n",
    "from torchvision.utils import save_image\n",
    "\n",
    "num_epochs = 100\n",
    "batch_size = 64\n",
    "\n",
    "transform = transforms.Compose([\n",
    "    transforms.ToTensor(),\n",
    "    transforms.Normalize((0.1307,), (0.3081,))\n",
    "])\n",
    "trainset = tv.datasets.MNIST(root='./data',  train=True, download=True, transform=transform)\n",
    "dataloader = torch.utils.data.DataLoader(trainset, batch_size=batch_size, shuffle=True, num_workers=4)\n",
    "\n",
    "class Autoencoder(nn.Module):\n",
    "    def __init__(self):\n",
    "        super(Autoencoder,self).__init__()\n",
    "        self.encoder = nn.Sequential(\n",
    "            # 28 x 28\n",
    "            nn.Conv2d(1, 4, kernel_size=5),\n",
    "            # 4 x 24 x 24\n",
    "            nn.ReLU(True),\n",
    "            nn.Conv2d(4, 8, kernel_size=5),\n",
    "            nn.ReLU(True),\n",
    "            # 8 x 20 x 20 = 3200\n",
    "            nn.Flatten(),\n",
    "            nn.Linear(3200, 10),\n",
    "            # 10\n",
    "            nn.Softmax(),\n",
    "            )\n",
    "        self.decoder = nn.Sequential(\n",
    "            # 10\n",
    "            nn.Linear(10, 400),\n",
    "            # 400\n",
    "            nn.ReLU(True),\n",
    "            nn.Linear(400, 4000),\n",
    "            # 4000\n",
    "            nn.ReLU(True),\n",
    "            nn.Unflatten(1, (10, 20, 20)),\n",
    "            # 10 x 20 x 20\n",
    "            nn.ConvTranspose2d(10, 10, kernel_size=5),\n",
    "            # 24 x 24\n",
    "            nn.ConvTranspose2d(10, 1, kernel_size=5),\n",
    "            # 28 x 28\n",
    "            nn.Sigmoid(),\n",
    "            )\n",
    "    def forward(self, x):\n",
    "        x = self.encoder(x)\n",
    "        x = self.decoder(x)\n",
    "        return x\n",
    "\n",
    "model = Autoencoder().cpu()\n",
    "distance = nn.MSELoss()\n",
    "#distance = nn.BCELoss()\n",
    "#distance = nn.BCEWithLogitsLoss()\n",
    "#optimizer = torch.optim.Adam(model.parameters(), weight_decay=1e-5)\n",
    "optimizer = torch.optim.SGD(model.parameters(), lr=0.01, momentum=0.5)\n",
    "\n",
    "for epoch in range(num_epochs):\n",
    "    for data in dataloader:\n",
    "        img, _ = data\n",
    "        img = Variable(img).cpu()\n",
    "        output = model(img)\n",
    "        loss = distance(output, img)\n",
    "        optimizer.zero_grad()\n",
    "        loss.backward()\n",
    "        optimizer.step()\n",
    "    print('epoch [{}/{}], loss: {:.4f}'.format(epoch+1, num_epochs, loss.item()))"
   ]
  },
  {
   "cell_type": "code",
   "execution_count": 16,
   "metadata": {},
   "outputs": [
    {
     "name": "stdout",
     "output_type": "stream",
     "text": [
      "[[383. 186.  22. 326.  31.  21.   3.   0.   7.   1.]\n",
      " [  0.   0.  39.   3.   0.   0.  73.   4. 197. 819.]\n",
      " [  2. 203.  88. 171.  50.   4.  13. 256. 156.  89.]\n",
      " [ 27.   0.  20. 882.   3.   0.  13.  21.  20.  24.]\n",
      " [ 61.  79.  22.   0.   0.  29. 528.  47.  11. 205.]\n",
      " [ 60.   0.  74. 494.   0. 108.  12.   4.  28. 112.]\n",
      " [ 16.  16.  87.   1.   6. 103.  23.  50. 655.   1.]\n",
      " [148.   0.   0.   0.   1.   0. 366.   7.   2. 504.]\n",
      " [  4.   5.  56. 594.   6.   7.  18.  16.   3. 265.]\n",
      " [ 59.   8.   3.  29.   2.   7. 609.   1.   0. 291.]]\n",
      "10000\n"
     ]
    }
   ],
   "source": [
    "import numpy as np\n",
    "np.set_printoptions(suppress=True)\n",
    "\n",
    "confusion_matrix = np.zeros((10, 10))\n",
    "\n",
    "batch_size = 20*1000\n",
    "\n",
    "testset = tv.datasets.MNIST(root='./data',  train=False, download=True, transform=transform)\n",
    "dataloader = torch.utils.data.DataLoader(testset, batch_size=batch_size, shuffle=True, num_workers=4)\n",
    "\n",
    "for data in dataloader:\n",
    "    imgs, labels = data\n",
    "    imgs = Variable(imgs).cpu()\n",
    "    encs = model.encoder(imgs).detach().numpy()\n",
    "    for i in range(len(encs)):\n",
    "        predicted = np.argmax(encs[i])\n",
    "        actual = labels[i]\n",
    "        confusion_matrix[actual][predicted] += 1\n",
    "print(confusion_matrix)\n",
    "print(int(confusion_matrix.sum()))"
   ]
  },
  {
   "cell_type": "code",
   "execution_count": 18,
   "metadata": {},
   "outputs": [
    {
     "name": "stdout",
     "output_type": "stream",
     "text": [
      "Actual label 0 most likely activates on neuron 0 (39%)\n",
      "Actual label 1 most likely activates on neuron 9 (72%)\n",
      "Actual label 2 most likely activates on neuron 7 (24%)\n",
      "Actual label 3 most likely activates on neuron 3 (87%)\n",
      "Actual label 4 most likely activates on neuron 6 (53%)\n",
      "Actual label 5 most likely activates on neuron 3 (55%)\n",
      "Actual label 6 most likely activates on neuron 8 (68%)\n",
      "Actual label 7 most likely activates on neuron 9 (49%)\n",
      "Actual label 8 most likely activates on neuron 3 (60%)\n",
      "Actual label 9 most likely activates on neuron 6 (60%)\n"
     ]
    },
    {
     "data": {
      "text/plain": [
       "({0, 3, 6, 7, 8, 9}, 6)"
      ]
     },
     "execution_count": 18,
     "metadata": {},
     "output_type": "execute_result"
    }
   ],
   "source": [
    "active_neurons = set()\n",
    "for actual in range(10):\n",
    "    predicted = np.argmax(confusion_matrix[actual])\n",
    "    pct = 100 * confusion_matrix[actual][predicted] / np.sum(confusion_matrix[actual])\n",
    "    print('Actual label %d most likely activates on neuron %d (%d%%)' % (actual, predicted, pct))\n",
    "    active_neurons.add(predicted)\n",
    "active_neurons, len(active_neurons)"
   ]
  },
  {
   "cell_type": "code",
   "execution_count": 32,
   "metadata": {},
   "outputs": [
    {
     "data": {
      "image/png": "[encoded data removed]",
      "text/plain": [
       "<Figure size 720x720 with 1 Axes>"
      ]
     },
     "metadata": {
      "needs_background": "light"
     },
     "output_type": "display_data"
    }
   ],
   "source": [
    "import numpy as np\n",
    "import matplotlib\n",
    "import matplotlib.pyplot as plt\n",
    "fig, ax = plt.subplots(figsize=(10, 10))\n",
    "im = ax.imshow(confusion_matrix, cmap=\"YlGn\")\n",
    "ax.set_xticks(np.arange(10))\n",
    "ax.set_yticks(np.arange(10))\n",
    "ax.set_title(\"Confusion matrix\")\n",
    "for i in range(10):\n",
    "    for j in range(10):\n",
    "        text = ax.text(j, i, int(confusion_matrix[i, j]),\n",
    "                       ha=\"center\", va=\"center\")\n",
    "fig.tight_layout()\n",
    "plt.show()"
   ]
  },
  {
   "cell_type": "code",
   "execution_count": 34,
   "metadata": {},
   "outputs": [
    {
     "name": "stdout",
     "output_type": "stream",
     "text": [
      "[[383. 186.  22. 326.  31.  21.   3.   0.   7.   1.]\n",
      " [  0.   0.  39.   3.   0.   0.  73.   4. 197. 819.]\n",
      " [  2. 203.  88. 171.  50.   4.  13. 256. 156.  89.]\n",
      " [ 27.   0.  20. 882.   3.   0.  13.  21.  20.  24.]\n",
      " [ 61.  79.  22.   0.   0.  29. 528.  47.  11. 205.]\n",
      " [ 60.   0.  74. 494.   0. 108.  12.   4.  28. 112.]\n",
      " [ 16.  16.  87.   1.   6. 103.  23.  50. 655.   1.]\n",
      " [148.   0.   0.   0.   1.   0. 366.   7.   2. 504.]\n",
      " [  4.   5.  56. 594.   6.   7.  18.  16.   3. 265.]\n",
      " [ 59.   8.   3.  29.   2.   7. 609.   1.   0. 291.]]\n",
      "10000\n",
      "0.4053\n"
     ]
    }
   ],
   "source": [
    "classifier = {\n",
    "    # enc -> predict\n",
    "    0: 0,\n",
    "    1: 2,\n",
    "    2: 2,\n",
    "    3: 3,\n",
    "    4: 2,\n",
    "    5: 5,\n",
    "    6: 9,\n",
    "    7: 2,\n",
    "    8: 6,\n",
    "    9: 1,\n",
    "}\n",
    "\n",
    "testset = tv.datasets.MNIST(root='./data',  train=False, download=True, transform=transform)\n",
    "dataloader = torch.utils.data.DataLoader(testset, batch_size=batch_size, shuffle=True, num_workers=4)\n",
    "total = 0\n",
    "correct = 0\n",
    "for data in dataloader:\n",
    "    imgs, labels = data\n",
    "    imgs = Variable(imgs).cpu()\n",
    "    encs = model.encoder(imgs).detach().numpy()\n",
    "    for i in range(len(encs)):\n",
    "        predicted = classifier[np.argmax(encs[i])]\n",
    "        actual = labels[i]\n",
    "        if predicted == actual:\n",
    "            correct += 1\n",
    "        total += 1\n",
    "print(confusion_matrix)\n",
    "print(int(confusion_matrix.sum()))\n",
    "\n",
    "print(correct/total)"
   ]
  },
  {
   "cell_type": "code",
   "execution_count": null,
   "metadata": {},
   "outputs": [],
   "source": []
  }
 ],
 "metadata": {
  "kernelspec": {
   "display_name": "Python 3",
   "language": "python",
   "name": "python3"
  },
  "language_info": {
   "codemirror_mode": {
    "name": "ipython",
    "version": 3
   },
   "file_extension": ".py",
   "mimetype": "text/x-python",
   "name": "python",
   "nbconvert_exporter": "python",
   "pygments_lexer": "ipython3",
   "version": "3.7.6"
  }
 },
 "nbformat": 4,
 "nbformat_minor": 4
}
