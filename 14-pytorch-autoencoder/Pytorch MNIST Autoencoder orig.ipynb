{
 "cells": [
  {
   "cell_type": "code",
   "execution_count": 77,
   "metadata": {},
   "outputs": [
    {
     "name": "stdout",
     "output_type": "stream",
     "text": [
      "epoch [1/20], loss: 0.8514\n",
      "epoch [2/20], loss: 0.8257\n",
      "epoch [3/20], loss: 0.7773\n",
      "epoch [4/20], loss: 0.7251\n",
      "epoch [5/20], loss: 0.7215\n",
      "epoch [6/20], loss: 0.7001\n",
      "epoch [7/20], loss: 0.7056\n",
      "epoch [8/20], loss: 0.7124\n",
      "epoch [9/20], loss: 0.6659\n",
      "epoch [10/20], loss: 0.6738\n",
      "epoch [11/20], loss: 0.6583\n",
      "epoch [12/20], loss: 0.7155\n",
      "epoch [13/20], loss: 0.6189\n",
      "epoch [14/20], loss: 0.6356\n",
      "epoch [15/20], loss: 0.6755\n",
      "epoch [16/20], loss: 0.6922\n",
      "epoch [17/20], loss: 0.6262\n",
      "epoch [18/20], loss: 0.6399\n",
      "epoch [19/20], loss: 0.6440\n",
      "epoch [20/20], loss: 0.6444\n"
     ]
    }
   ],
   "source": [
    "import torch\n",
    "import torchvision as tv\n",
    "import torchvision.transforms as transforms\n",
    "import torch.nn as nn\n",
    "import torch.nn.functional as F\n",
    "from torch.autograd import Variable\n",
    "from torchvision.utils import save_image\n",
    "\n",
    "num_epochs = 20\n",
    "batch_size = 64\n",
    "\n",
    "transform = transforms.Compose([\n",
    "    transforms.ToTensor(),\n",
    "    transforms.Normalize((0.1307,), (0.3081,))\n",
    "])\n",
    "trainset = tv.datasets.MNIST(root='./data',  train=True, download=True, transform=transform)\n",
    "dataloader = torch.utils.data.DataLoader(trainset, batch_size=batch_size, shuffle=True, num_workers=4)\n",
    "\n",
    "class Autoencoder(nn.Module):\n",
    "    def __init__(self):\n",
    "        super(Autoencoder,self).__init__()\n",
    "        self.encoder = nn.Sequential(\n",
    "            # 28 x 28\n",
    "            nn.Conv2d(1, 4, kernel_size=5),\n",
    "#             nn.Dropout2d(p=0.2),\n",
    "            # 4 x 24 x 24\n",
    "            nn.ReLU(True),\n",
    "            nn.Conv2d(4, 8, kernel_size=5),\n",
    "            nn.ReLU(True),\n",
    "#             nn.Dropout2d(p=0.2),\n",
    "            # 8 x 20 x 20 = 3200\n",
    "            nn.Flatten(),\n",
    "            nn.Linear(3200, 10),\n",
    "            # 10\n",
    "            nn.Softmax(),\n",
    "            )\n",
    "        self.decoder = nn.Sequential(\n",
    "            # 10\n",
    "            nn.Linear(10, 400),\n",
    "            # 400\n",
    "            nn.ReLU(True),\n",
    "            nn.Linear(400, 4000),\n",
    "            # 4000\n",
    "            nn.ReLU(True),\n",
    "            nn.Unflatten(1, (10, 20, 20)),\n",
    "            # 10 x 20 x 20\n",
    "#             nn.Dropout2d(p=0.2),\n",
    "            nn.ConvTranspose2d(10, 10, kernel_size=5),\n",
    "            # 24 x 24\n",
    "#             nn.ReLU(True),\n",
    "#             nn.Dropout2d(p=0.2),\n",
    "            nn.ConvTranspose2d(10, 1, kernel_size=5),\n",
    "            # 28 x 28\n",
    "            #nn.ReLU(True),\n",
    "            nn.Sigmoid(),\n",
    "            )\n",
    "    def forward(self, x):\n",
    "        x = self.encoder(x)\n",
    "        x = self.decoder(x)\n",
    "        return x\n",
    "\n",
    "model = Autoencoder().cpu()\n",
    "distance = nn.MSELoss()\n",
    "#distance = nn.BCELoss()\n",
    "#distance = nn.BCEWithLogitsLoss()\n",
    "#optimizer = torch.optim.Adam(model.parameters(), weight_decay=1e-5)\n",
    "optimizer = torch.optim.SGD(model.parameters(), lr=0.01, momentum=0.5)\n",
    "\n",
    "for epoch in range(num_epochs):\n",
    "    for data in dataloader:\n",
    "        img, _ = data\n",
    "        img = Variable(img).cpu()\n",
    "        output = model(img)\n",
    "        loss = distance(output, img)\n",
    "        optimizer.zero_grad()\n",
    "        loss.backward()\n",
    "        optimizer.step()\n",
    "    print('epoch [{}/{}], loss: {:.4f}'.format(epoch+1, num_epochs, loss.item()))"
   ]
  },
  {
   "cell_type": "code",
   "execution_count": 82,
   "metadata": {},
   "outputs": [
    {
     "name": "stdout",
     "output_type": "stream",
     "text": [
      "[[642.   0. 147.  37. 105.   0.   0.   2.  47.   0.]\n",
      " [  0.   0. 496. 171.   1.   0.   0. 119.   5. 343.]\n",
      " [203.   0. 257.  36.   4.   0.   0. 146. 250. 136.]\n",
      " [ 91.   0.  47. 107.  19.   0.   0.  88. 397. 261.]\n",
      " [ 12.   0.  94.  45. 758.   0.   0.   5.   0.  68.]\n",
      " [ 54.   0. 194.  65. 252.   0.   0.   9. 204. 114.]\n",
      " [ 91.   0.  98. 734.   8.   0.   0.   5.   0.  22.]\n",
      " [  0.   0.  12.   6. 283.   0.   0. 659.  12.  56.]\n",
      " [ 44.   0.  78.  51. 178.   0.   0.   6. 512. 105.]\n",
      " [ 12.   0.  17.   8. 870.   0.   0.  13.  11.  78.]]\n",
      "10000\n"
     ]
    }
   ],
   "source": [
    "import numpy as np\n",
    "np.set_printoptions(suppress=True)\n",
    "\n",
    "confusion_matrix = np.zeros((10, 10))\n",
    "\n",
    "batch_size = 20*1000\n",
    "\n",
    "testset = tv.datasets.MNIST(root='./data',  train=False, download=True, transform=transform)\n",
    "dataloader = torch.utils.data.DataLoader(testset, batch_size=batch_size, shuffle=True, num_workers=4)\n",
    "\n",
    "for data in dataloader:\n",
    "    imgs, labels = data\n",
    "    imgs = Variable(imgs).cpu()\n",
    "    encs = model.encoder(imgs).detach().numpy()\n",
    "    for i in range(len(encs)):\n",
    "        predicted = np.argmax(encs[i])\n",
    "        actual = labels[i]\n",
    "        confusion_matrix[actual][predicted] += 1\n",
    "print(confusion_matrix)\n",
    "print(int(confusion_matrix.sum()))"
   ]
  },
  {
   "cell_type": "code",
   "execution_count": 91,
   "metadata": {},
   "outputs": [
    {
     "name": "stdout",
     "output_type": "stream",
     "text": [
      "Actual label 0 most likely activates on neuron 0 (65%)\n",
      "Actual label 1 most likely activates on neuron 2 (43%)\n",
      "Actual label 2 most likely activates on neuron 2 (24%)\n",
      "Actual label 3 most likely activates on neuron 8 (39%)\n",
      "Actual label 4 most likely activates on neuron 4 (77%)\n",
      "Actual label 5 most likely activates on neuron 4 (28%)\n",
      "Actual label 6 most likely activates on neuron 3 (76%)\n",
      "Actual label 7 most likely activates on neuron 7 (64%)\n",
      "Actual label 8 most likely activates on neuron 8 (52%)\n",
      "Actual label 9 most likely activates on neuron 4 (86%)\n"
     ]
    }
   ],
   "source": [
    "for actual in range(10):\n",
    "    predicted = np.argmax(confusion_matrix[actual])\n",
    "    pct = 100 * confusion_matrix[actual][predicted] / np.sum(confusion_matrix[actual])\n",
    "    print('Actual label %d most likely activates on neuron %d (%d%%)' % (actual, predicted, pct))"
   ]
  },
  {
   "cell_type": "code",
   "execution_count": null,
   "metadata": {},
   "outputs": [],
   "source": []
  },
  {
   "cell_type": "code",
   "execution_count": null,
   "metadata": {},
   "outputs": [],
   "source": []
  }
 ],
 "metadata": {
  "kernelspec": {
   "display_name": "Python 3",
   "language": "python",
   "name": "python3"
  },
  "language_info": {
   "codemirror_mode": {
    "name": "ipython",
    "version": 3
   },
   "file_extension": ".py",
   "mimetype": "text/x-python",
   "name": "python",
   "nbconvert_exporter": "python",
   "pygments_lexer": "ipython3",
   "version": "3.7.6"
  }
 },
 "nbformat": 4,
 "nbformat_minor": 4
}
